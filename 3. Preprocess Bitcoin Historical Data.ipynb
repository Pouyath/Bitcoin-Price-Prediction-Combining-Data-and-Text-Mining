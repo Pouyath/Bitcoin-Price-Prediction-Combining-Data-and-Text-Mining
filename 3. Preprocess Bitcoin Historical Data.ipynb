{
 "cells": [
  {
   "cell_type": "code",
   "execution_count": 1,
   "metadata": {},
   "outputs": [],
   "source": [
    "import pandas as pd\n",
    "import datetime\n",
    "import numpy as np"
   ]
  },
  {
   "cell_type": "markdown",
   "metadata": {},
   "source": [
    "# Define Functions "
   ]
  },
  {
   "cell_type": "code",
   "execution_count": 2,
   "metadata": {},
   "outputs": [],
   "source": [
    "def truncate_time(time):\n",
    "    return time.replace(hour = 0, minute=0, second=0, microsecond=0)"
   ]
  },
  {
   "cell_type": "markdown",
   "metadata": {},
   "source": [
    "# Load BTC Dataset"
   ]
  },
  {
   "cell_type": "code",
   "execution_count": 3,
   "metadata": {},
   "outputs": [],
   "source": [
    "btc = pd.read_csv('Data/bitstampUSD_1-min_data_2012-01-01_to_2018-03-27.csv')"
   ]
  },
  {
   "cell_type": "markdown",
   "metadata": {},
   "source": [
    "# Preprocess BTC dataset"
   ]
  },
  {
   "cell_type": "code",
   "execution_count": 4,
   "metadata": {},
   "outputs": [],
   "source": [
    "btc['Timestamp'] = pd.to_datetime(btc['Timestamp'], unit = 's')\n",
    "btc['Timestamp'] = (btc['Timestamp'] + datetime.timedelta(hours = 2))\n",
    "btc['Timestamp'] = btc['Timestamp'].map(truncate_time)\n",
    "\n",
    "#Mean BTC VALUE BY DATE\n",
    "btc = btc.groupby(['Timestamp'], as_index=False).first()\n",
    "\n",
    "#Create a column that indicates if \" 1 -> The price went up, 0 -> the price went down\"\n",
    "prices_one_houre_after = btc['Weighted_Price'].shift(-1)\n",
    "prices_now = btc['Weighted_Price']\n",
    "btc['Up_or_Down'] = np.where( (prices_one_houre_after - prices_now) > 0 , 1, 0)"
   ]
  },
  {
   "cell_type": "code",
   "execution_count": 5,
   "metadata": {},
   "outputs": [
    {
     "data": {
      "text/plain": [
       "2276"
      ]
     },
     "execution_count": 5,
     "metadata": {},
     "output_type": "execute_result"
    }
   ],
   "source": [
    "btc.to_csv('btc_raw_day.csv')\n",
    "len(btc)"
   ]
  },
  {
   "cell_type": "code",
   "execution_count": 11,
   "metadata": {},
   "outputs": [],
   "source": [
    "btc[['Weighted_Price']].to_csv('weka.csv')"
   ]
  },
  {
   "cell_type": "code",
   "execution_count": 10,
   "metadata": {},
   "outputs": [
    {
     "data": {
      "text/plain": [
       "0           4.390000\n",
       "1           4.580000\n",
       "2           4.840000\n",
       "3           5.000000\n",
       "4           5.290000\n",
       "5           5.442972\n",
       "6           6.420000\n",
       "7           6.000000\n",
       "8           6.800000\n",
       "9           6.900000\n",
       "10          6.230000\n",
       "11          7.100000\n",
       "12          7.000000\n",
       "13          6.510000\n",
       "14          6.720000\n",
       "15          6.300000\n",
       "16          7.150000\n",
       "17          7.100000\n",
       "18          6.900000\n",
       "19          7.100000\n",
       "20          6.070000\n",
       "21          6.950000\n",
       "22          6.770000\n",
       "23          6.790000\n",
       "24          6.520000\n",
       "25          6.550000\n",
       "26          6.310000\n",
       "27          6.200000\n",
       "28          5.880000\n",
       "29          4.910000\n",
       "            ...     \n",
       "2246     9594.449556\n",
       "2247    10384.591626\n",
       "2248    10761.903779\n",
       "2249    10539.159177\n",
       "2250    10934.887624\n",
       "2251    11041.784540\n",
       "2252    11299.879662\n",
       "2253    11401.124643\n",
       "2254    11577.217284\n",
       "2255    10785.668028\n",
       "2256     9950.211506\n",
       "2257     9312.630703\n",
       "2258     8995.398150\n",
       "2259     8826.534144\n",
       "2260     9545.381594\n",
       "2261     9118.368602\n",
       "2262     9154.000200\n",
       "2263     8075.151349\n",
       "2264     8318.887964\n",
       "2265     8503.683135\n",
       "2266     7978.730010\n",
       "2267     8250.173492\n",
       "2268     8367.294866\n",
       "2269     8989.922362\n",
       "2270     8912.852959\n",
       "2271     8598.041324\n",
       "2272     8686.513769\n",
       "2273     8669.831131\n",
       "2274     8639.224579\n",
       "2275     7890.459201\n",
       "Name: Weighted_Price, Length: 2276, dtype: float64"
      ]
     },
     "execution_count": 10,
     "metadata": {},
     "output_type": "execute_result"
    }
   ],
   "source": [
    "btc['Weighted_Price']"
   ]
  },
  {
   "cell_type": "code",
   "execution_count": null,
   "metadata": {},
   "outputs": [],
   "source": []
  }
 ],
 "metadata": {
  "kernelspec": {
   "display_name": "Python 3",
   "language": "python",
   "name": "python3"
  },
  "language_info": {
   "codemirror_mode": {
    "name": "ipython",
    "version": 3
   },
   "file_extension": ".py",
   "mimetype": "text/x-python",
   "name": "python",
   "nbconvert_exporter": "python",
   "pygments_lexer": "ipython3",
   "version": "3.6.6"
  }
 },
 "nbformat": 4,
 "nbformat_minor": 2
}
