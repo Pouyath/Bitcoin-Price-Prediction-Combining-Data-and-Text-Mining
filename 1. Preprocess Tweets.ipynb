{
 "cells": [
  {
   "cell_type": "code",
   "execution_count": 1,
   "metadata": {},
   "outputs": [],
   "source": [
    "import pandas as pd\n",
    "import re\n",
    "import datetime\n",
    "import numpy as np\n",
    "\n",
    "from nltk.sentiment.vader import SentimentIntensityAnalyzer\n",
    "from textblob import TextBlob"
   ]
  },
  {
   "cell_type": "markdown",
   "metadata": {},
   "source": [
    "# Define Functions"
   ]
  },
  {
   "cell_type": "code",
   "execution_count": 2,
   "metadata": {},
   "outputs": [],
   "source": [
    "def clean_tweet(tweet):\n",
    "    '''\n",
    "    Utility function to clean tweet text by removing links, special characters\n",
    "    using simple regex statements.\n",
    "    '''\n",
    "    return ' '.join(re.sub(\"(@[A-Za-z0-9]+)|([^0-9A-Za-z \\t])|(\\w+:\\/\\/\\S+)\", \" \", tweet).split())\n",
    "\n",
    "def get_tweet_sentiment(tweet):\n",
    "        \n",
    "    '''\n",
    "    Utility function to classify sentiment of passed tweet\n",
    "    using textblob's sentiment method\n",
    "    '''\n",
    "    # create TextBlob object of passed tweet text\n",
    "    analysis = TextBlob(tweet)\n",
    "\n",
    "    return analysis.sentiment.polarity\n",
    "\n",
    "def truncate_time(time):\n",
    "    return time.replace(hour=0 ,minute=0, second=0, microsecond=0)\n",
    "\n",
    "sid = SentimentIntensityAnalyzer()  \n",
    "def vader(tweet):  \n",
    "    ss = sid.polarity_scores(tweet)   \n",
    "    return (ss['compound'])\n",
    "\n",
    "def pos_or_not(tweet_sentiment):\n",
    "    if(tweet_sentiment>0):\n",
    "        return 1\n",
    "    else :\n",
    "        return 0"
   ]
  },
  {
   "cell_type": "markdown",
   "metadata": {},
   "source": [
    "# Load tweets"
   ]
  },
  {
   "cell_type": "code",
   "execution_count": 3,
   "metadata": {},
   "outputs": [
    {
     "name": "stderr",
     "output_type": "stream",
     "text": [
      "C:\\Anaconda3\\lib\\site-packages\\IPython\\core\\interactiveshell.py:2785: DtypeWarning: Columns (9) have mixed types. Specify dtype option on import or set low_memory=False.\n",
      "  interactivity=interactivity, compiler=compiler, result=result)\n"
     ]
    },
    {
     "name": "stdout",
     "output_type": "stream",
     "text": [
      "16865848\n"
     ]
    }
   ],
   "source": [
    "tweets = pd.read_csv('Data/tweets.csv')\n",
    "print (len(tweets))"
   ]
  },
  {
   "cell_type": "markdown",
   "metadata": {},
   "source": [
    "# Hashtags + Text = Lowercase"
   ]
  },
  {
   "cell_type": "code",
   "execution_count": 4,
   "metadata": {},
   "outputs": [],
   "source": [
    "tweets['hashtags'] = tweets['hashtags'].str.lower()\n",
    "tweets['tweet'] = tweets['tweet'].str.lower()"
   ]
  },
  {
   "cell_type": "markdown",
   "metadata": {},
   "source": [
    "# Remove Duplicates "
   ]
  },
  {
   "cell_type": "code",
   "execution_count": 5,
   "metadata": {},
   "outputs": [
    {
     "name": "stdout",
     "output_type": "stream",
     "text": [
      "11385573\n"
     ]
    }
   ],
   "source": [
    "tweets = tweets.drop_duplicates(subset = 'tweet')\n",
    "print(len(tweets))"
   ]
  },
  {
   "cell_type": "markdown",
   "metadata": {},
   "source": [
    "# Map the functions"
   ]
  },
  {
   "cell_type": "code",
   "execution_count": 6,
   "metadata": {},
   "outputs": [],
   "source": [
    "#Clean the text\n",
    "tweets['text'] = tweets['tweet'].map(clean_tweet)\n",
    "\n",
    "#Polarity by vader\n",
    "tweets['polarity_vader'] = tweets['text'].map(vader)\n",
    "\n",
    "#Polarity by textblob\n",
    "tweets['polarity_textblob'] = tweets['text'].map(get_tweet_sentiment)\n",
    "\n",
    "# Create Timestamp\n",
    "tweets['timestamp'] = pd.to_datetime(tweets['date'] + ' ' + tweets['time'])\n",
    "tweets['timestamp'] = tweets['timestamp'].map(truncate_time)"
   ]
  },
  {
   "cell_type": "code",
   "execution_count": 7,
   "metadata": {},
   "outputs": [],
   "source": [
    "tweets = tweets[['text', 'timestamp', 'polarity_textblob', 'polarity_vader', 'hashtags']]\n",
    "tweets = tweets.rename(columns={'text': 'Text', 'polarity_textblob': 'Polarity_Textblob', 'timestamp' : 'Timestamp', 'polarity_vader' : 'Polarity_Vader', 'hashtags' : 'Hashtags'})"
   ]
  },
  {
   "cell_type": "markdown",
   "metadata": {},
   "source": [
    "# Remove tweets with noise\n",
    "\n",
    "# 1. Hashtags"
   ]
  },
  {
   "cell_type": "code",
   "execution_count": 8,
   "metadata": {},
   "outputs": [
    {
     "name": "stdout",
     "output_type": "stream",
     "text": [
      "10830629\n"
     ]
    }
   ],
   "source": [
    "to_drop = ['#lottery', '#makemoney', '#free', '#bet', '#freebitcoin', '#webbot', '#freeminingsoftware',\n",
    "          '#yabtcl', '#bitcoinbet','#tradingtool', '#trading', '#residualbitcoin', '#faucet', '#venezuela', '#casino'\n",
    "          '#sportsbook','#soccer', '#game', '#simplefx', '#nitrogensportsbook', '#makemoney', '#makeyourownlane', \n",
    "          '#livescoregoal', '#livescore', '#bitcoinprice', '#price', '#mpgvip', '#footballcoin', '#earnbitcoin']\n",
    "\n",
    "for i in to_drop:\n",
    "    tweets = tweets[tweets.Hashtags.str.contains(i) == False]\n",
    "print (len(tweets))"
   ]
  },
  {
   "cell_type": "markdown",
   "metadata": {},
   "source": [
    "# 2. Spesific Words"
   ]
  },
  {
   "cell_type": "code",
   "execution_count": 9,
   "metadata": {},
   "outputs": [
    {
     "name": "stdout",
     "output_type": "stream",
     "text": [
      "5867274\n"
     ]
    }
   ],
   "source": [
    "to_drop = ['free', 'trading', 'price', 'win', 'game', 'performing currency', 'altcoin', 'fintech', 'pic']\n",
    "\n",
    "for i in to_drop:\n",
    "    tweets = tweets[tweets.Text.str.contains(i) == False]\n",
    "print (len(tweets))"
   ]
  },
  {
   "cell_type": "markdown",
   "metadata": {},
   "source": [
    "# Merge tweets By Timestamp"
   ]
  },
  {
   "cell_type": "code",
   "execution_count": 10,
   "metadata": {},
   "outputs": [],
   "source": [
    "tweets_by_timestamp = tweets.groupby(['Timestamp'], as_index=False).mean()"
   ]
  },
  {
   "cell_type": "markdown",
   "metadata": {},
   "source": [
    "# Count Tweets per Day"
   ]
  },
  {
   "cell_type": "code",
   "execution_count": 11,
   "metadata": {},
   "outputs": [],
   "source": [
    "count = pd.DataFrame(data = tweets.Timestamp.value_counts())\n",
    "count.reset_index(inplace=True)\n",
    "count.columns = ['Timestamp', 'Count_of_Tweets']\n",
    "tweets_by_timestamp = pd.merge(tweets_by_timestamp, count)"
   ]
  },
  {
   "cell_type": "markdown",
   "metadata": {},
   "source": [
    "# Count Possitive tweets per Day"
   ]
  },
  {
   "cell_type": "code",
   "execution_count": 12,
   "metadata": {},
   "outputs": [],
   "source": [
    "tweets['Positive_Or_Not'] = tweets['Polarity_Vader'].map(pos_or_not)\n",
    "tweets_count = tweets.groupby(['Timestamp'], as_index=False).sum()\n",
    "tweets_by_timestamp['Count_Of_Possitive_Tweets'] = tweets_count['Positive_Or_Not']"
   ]
  },
  {
   "cell_type": "markdown",
   "metadata": {},
   "source": [
    "# Load Bitcoin and Google Trends Datasets "
   ]
  },
  {
   "cell_type": "code",
   "execution_count": 13,
   "metadata": {},
   "outputs": [
    {
     "name": "stdout",
     "output_type": "stream",
     "text": [
      "5867274\n",
      "1551\n",
      "365\n"
     ]
    }
   ],
   "source": [
    "btc = pd.read_csv('Data/Coinbase_BTCUSD_d.csv', skiprows=1)\n",
    "btc = btc.rename(columns = {\"Date\" : \"Timestamp\"})\n",
    "btc['Timestamp'] = pd.to_datetime(btc['Timestamp'])\n",
    "\n",
    "google_trends = pd.read_csv('Data/google_trends.csv')\n",
    "google_trends['Timestamp'] = pd.to_datetime(google_trends['Timestamp'])\n",
    "\n",
    "print(len(tweets))\n",
    "print(len(btc))\n",
    "print(len(google_trends))"
   ]
  },
  {
   "cell_type": "code",
   "execution_count": 14,
   "metadata": {},
   "outputs": [],
   "source": [
    "data1 = pd.merge(tweets_by_timestamp, btc , on='Timestamp', how='inner')\n",
    "data = pd.merge(data1, google_trends , on='Timestamp', how='inner')\n",
    "\n",
    "#Last modifications\n",
    "data.drop('Unnamed: 0', axis=1,inplace = True)"
   ]
  },
  {
   "cell_type": "code",
   "execution_count": 15,
   "metadata": {},
   "outputs": [
    {
     "data": {
      "text/plain": [
       "364"
      ]
     },
     "execution_count": 15,
     "metadata": {},
     "output_type": "execute_result"
    }
   ],
   "source": [
    "data.to_csv('data.csv')\n",
    "len(data)"
   ]
  }
 ],
 "metadata": {
  "kernelspec": {
   "display_name": "Python 3",
   "language": "python",
   "name": "python3"
  },
  "language_info": {
   "codemirror_mode": {
    "name": "ipython",
    "version": 3
   },
   "file_extension": ".py",
   "mimetype": "text/x-python",
   "name": "python",
   "nbconvert_exporter": "python",
   "pygments_lexer": "ipython3",
   "version": "3.6.6"
  }
 },
 "nbformat": 4,
 "nbformat_minor": 2
}
