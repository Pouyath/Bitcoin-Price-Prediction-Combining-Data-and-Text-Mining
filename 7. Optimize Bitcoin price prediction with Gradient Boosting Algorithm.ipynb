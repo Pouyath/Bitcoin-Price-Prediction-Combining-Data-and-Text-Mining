{
 "cells": [
  {
   "cell_type": "code",
   "execution_count": null,
   "metadata": {},
   "outputs": [],
   "source": [
    "from sklearn.preprocessing import normalize\n",
    "from sklearn.preprocessing import scale\n",
    "from sklearn.cross_validation import cross_val_score\n",
    "from hyperopt import fmin, tpe, hp, STATUS_OK,Trials\n",
    "from sklearn.cross_validation import cross_val_score, KFold\n",
    "\n",
    "from sklearn.preprocessing import normalize\n",
    "from sklearn.preprocessing import scale\n",
    "from sklearn.cross_validation import cross_val_score\n",
    "from hyperopt import fmin, tpe, hp, STATUS_OK,Trials\n",
    "from sklearn.cross_validation import cross_val_score, KFold\n",
    "\n",
    "import pandas as pd\n",
    "import matplotlib.pyplot as plt\n",
    "import numpy as np\n",
    "import math\n",
    "import seaborn as sns\n",
    "sns.set_style(\"darkgrid\", {\"axes.facecolor\": \"0.9\"})\n",
    "sns.set_context(\"poster\")\n",
    "\n",
    "from sklearn.preprocessing import normalize, MinMaxScaler\n",
    "from sklearn.svm import SVR\n",
    "from sklearn.metrics import mean_squared_error\n",
    "from sklearn.ensemble import RandomForestRegressor\n",
    "\n",
    "from sklearn.model_selection import GridSearchCV\n",
    "from sklearn.model_selection import train_test_split\n",
    "from sklearn.ensemble import GradientBoostingRegressor\n",
    "from sklearn.model_selection import validation_curve"
   ]
  },
  {
   "cell_type": "code",
   "execution_count": null,
   "metadata": {},
   "outputs": [],
   "source": [
    "def go_back(look_back, df):\n",
    "    #Create previous Day price column \n",
    "    \n",
    "    for i in range(look_back):\n",
    "        name = 'Previous_Day_Price' + str(i)\n",
    "        df[name] = df['Weighted_Price'].shift(+1+i)\n",
    "        df.dropna(how='any', inplace=True)\n",
    "        \n",
    "    return df"
   ]
  },
  {
   "cell_type": "code",
   "execution_count": null,
   "metadata": {},
   "outputs": [],
   "source": [
    "df = pd.read_csv('tweet_n_btc_day.csv')\n",
    "#Drop np.nan\n",
    "df.dropna(how='any', inplace=True)\n",
    "\n",
    "df = df[['Weighted_Price']]\n",
    "\n",
    "#Go back\n",
    "look_back = 5\n",
    "df = go_back(look_back, df)\n",
    "\n",
    "df = df.values\n",
    "\n",
    "# normalize the dataset\n",
    "scaler = MinMaxScaler(feature_range=(0, 1))\n",
    "df = scaler.fit_transform(df)\n",
    "\n",
    "dataset = np.delete(df,(0), axis=1)\n",
    "labels = np.delete(df,(1,2,3,4,5), axis=1)\n",
    "\n",
    "x_train, x_test, y_train, y_test = train_test_split(dataset, labels, test_size=0.4)"
   ]
  },
  {
   "cell_type": "code",
   "execution_count": null,
   "metadata": {},
   "outputs": [],
   "source": [
    "def hyperopt_train_test(params):\n",
    "\n",
    "    clf =  GradientBoostingRegressor(**params)\n",
    "    clf.fit(x_train, y_train)\n",
    "    \n",
    "    prediction = clf.predict(x_train)\n",
    "    print (math.sqrt(mean_squared_error(prediction,y_train)) )\n",
    "   \n",
    "    return math.sqrt(mean_squared_error(prediction,y_train))"
   ]
  },
  {
   "cell_type": "code",
   "execution_count": null,
   "metadata": {},
   "outputs": [],
   "source": [
    "best = 0\n",
    "def f(params):\n",
    "    global best\n",
    "    acc = hyperopt_train_test(params)\n",
    "    if acc > best:\n",
    "        best = acc\n",
    "        print ('new best:', best, params)\n",
    "    return {'loss': acc, 'status': STATUS_OK}"
   ]
  },
  {
   "cell_type": "code",
   "execution_count": null,
   "metadata": {},
   "outputs": [],
   "source": [
    "GradientBoosting4space = {\n",
    "\n",
    "    'max_depth': hp.quniform('max_depth',1,20,1), \n",
    "    'max_depth': hp.quniform('max_depth',1,20,1),\n",
    "    'min_weight_fraction_leaf': hp.uniform('min_weight_fraction_leaf', 0, 0.5),\n",
    "}"
   ]
  },
  {
   "cell_type": "code",
   "execution_count": null,
   "metadata": {},
   "outputs": [],
   "source": [
    "trials = Trials()\n",
    "best = fmin(f, GradientBoosting4space , algo=tpe.suggest, max_evals=1000, trials=trials)\n",
    "print ('best:')\n",
    "print (best)"
   ]
  },
  {
   "cell_type": "code",
   "execution_count": null,
   "metadata": {},
   "outputs": [],
   "source": []
  }
 ],
 "metadata": {
  "kernelspec": {
   "display_name": "Python 3",
   "language": "python",
   "name": "python3"
  },
  "language_info": {
   "codemirror_mode": {
    "name": "ipython",
    "version": 3
   },
   "file_extension": ".py",
   "mimetype": "text/x-python",
   "name": "python",
   "nbconvert_exporter": "python",
   "pygments_lexer": "ipython3",
   "version": "3.6.6"
  }
 },
 "nbformat": 4,
 "nbformat_minor": 2
}
